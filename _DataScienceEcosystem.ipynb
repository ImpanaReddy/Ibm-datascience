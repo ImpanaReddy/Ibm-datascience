{
 "cells": [
  {
   "cell_type": "markdown",
   "id": "d849bd2d",
   "metadata": {},
   "source": [
    "# Data Science Tools and Ecosystem\n",
    "\n"
   ]
  },
  {
   "cell_type": "markdown",
   "id": "89c9f2e9",
   "metadata": {},
   "source": [
    "## Introduction\n",
    "In this notebook, Data Science Tools and Ecosystem are summarized.\n",
    "Raw data goes or passes through various stages.These stages include data management,data transformation and integration,data visualisation,model building ,model deployment and model monitoring and assessment.each stage requires various tools.\n",
    "In data management we deal with relational databses and use Mysql,MongodB,HADOOP ETC\n",
    "fOR DATA TRANSFORMATION AND INTEGRATION WE USE PLATFORMS LIKE AIRFLOW,KUBERFLOW\n",
    "FOR DATA VISUALISTAION we use pixiedust,tableau\n",
    "for model deployment we have seldon,tensorflow etc\n",
    "and for model montioring we have modeldb\n",
    "we use python and various libraries for bulding the model\n"
   ]
  },
  {
   "cell_type": "markdown",
   "id": "c8758b0a",
   "metadata": {},
   "source": [
    "<b>Objectives:<b>\n",
    "   \n",
    "    * Languages in Data Science\n",
    "    * Libraries in Data Science\n",
    "    * Data science Tools\n",
    "    * evaluation of arithmetic expression\n",
    "    "
   ]
  },
  {
   "cell_type": "markdown",
   "id": "88fc279d",
   "metadata": {},
   "source": [
    "Some of the popular languages that Data Scientists use are\n",
    "\n",
    "\n",
    "1. Python\n",
    "2. R language \n",
    "3. SQL \n"
   ]
  },
  {
   "cell_type": "markdown",
   "id": "6ae029ba",
   "metadata": {},
   "source": [
    "Some of the commonly used libraries used by Data Scientists include:\n",
    "\n",
    "1. Numpy\n",
    "2. scipy\n",
    "3. Pandas\n"
   ]
  },
  {
   "cell_type": "markdown",
   "id": "95b0568c",
   "metadata": {},
   "source": [
    "|Data Science tools|\n",
    "|------------------|\n",
    "|RStudio|\n",
    "|Apache Spark|\n",
    "|tensorflow|"
   ]
  },
  {
   "cell_type": "markdown",
   "id": "45de4e67",
   "metadata": {},
   "source": [
    "### Below are a few examples of evaluating arithmetic expressions in Python"
   ]
  },
  {
   "cell_type": "code",
   "execution_count": 5,
   "id": "43fe0959",
   "metadata": {},
   "outputs": [
    {
     "data": {
      "text/plain": [
       "17"
      ]
     },
     "execution_count": 5,
     "metadata": {},
     "output_type": "execute_result"
    }
   ],
   "source": [
    "(3*4)+5 #This a simple arithmetic expression to mutiply then add integers"
   ]
  },
  {
   "cell_type": "code",
   "execution_count": 7,
   "id": "e5fd42d3",
   "metadata": {},
   "outputs": [
    {
     "name": "stdout",
     "output_type": "stream",
     "text": [
      "200 minutes is converted to 3.3333333333333335 hours\n"
     ]
    }
   ],
   "source": [
    "#This will convert 200 minutes to hours by diving by 60\n",
    "mins_to_hours= 200/60\n",
    "print(\"200 minutes is converted to\",mins_to_hours,\"hours\")"
   ]
  },
  {
   "cell_type": "markdown",
   "id": "416a888c",
   "metadata": {},
   "source": [
    "## Author \n",
    "Impana "
   ]
  },
  {
   "cell_type": "code",
   "execution_count": null,
   "id": "a322da56",
   "metadata": {},
   "outputs": [],
   "source": []
  }
 ],
 "metadata": {
  "kernelspec": {
   "display_name": "Python 3",
   "language": "python",
   "name": "python3"
  },
  "language_info": {
   "codemirror_mode": {
    "name": "ipython",
    "version": 3
   },
   "file_extension": ".py",
   "mimetype": "text/x-python",
   "name": "python",
   "nbconvert_exporter": "python",
   "pygments_lexer": "ipython3",
   "version": "3.8.8"
  }
 },
 "nbformat": 4,
 "nbformat_minor": 5
}
